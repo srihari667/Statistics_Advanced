{
  "nbformat": 4,
  "nbformat_minor": 0,
  "metadata": {
    "colab": {
      "provenance": []
    },
    "kernelspec": {
      "name": "python3",
      "display_name": "Python 3"
    },
    "language_info": {
      "name": "python"
    }
  },
  "cells": [
    {
      "cell_type": "markdown",
      "source": [
        "##Statistics Advanced - 1| Assignment"
      ],
      "metadata": {
        "id": "8mMs6rta4wgl"
      }
    },
    {
      "cell_type": "markdown",
      "source": [
        "Question 1: What is a random variable in probability theory?\n",
        "\n",
        "  - A random variable is a fundamental concept in probability theory. It is a function that assigns numerical values to each possible outcome of a random experiment. These variables help in describing and analyzing the outcomes of uncertain events mathematically.\n",
        "\n",
        "  Random variables are typically denoted by capital letters like X, Y, or Z. Based on the nature of the outcomes they represent, random variables can be either discrete (taking countable values) or continuous (taking values from a continuous range). For example:\n",
        "\n",
        "      *   Discrete: Number of students in a classroom.\n",
        "      *   Continuous: Temperature measured in a city.\n",
        "\n",
        "  In statistical modeling, random variables are essential for defining probability distributions, calculating expected values, variances, and performing inference."
      ],
      "metadata": {
        "id": "jc-kvQew4zkd"
      }
    },
    {
      "cell_type": "markdown",
      "source": [
        "Question 2: What are the types of random variables?\n",
        "\n",
        "  - There are primarily two types of random variables:\n",
        "\n",
        "    *   Discrete Random Variable:\n",
        "A discrete random variable can take only a finite or countably infinite set of values. The values are typically integers, and there are gaps between them.\n",
        "\n",
        "      Example: Number of heads in 5 coin tosses.\n",
        "*   Continuous Random Variable:\n",
        "A continuous random variable can take any value within a given interval on the real number line. The values are uncountably infinite and include decimals and fractions.\n",
        "\n",
        "      Example: Height of students in a class.\n",
        "\n",
        "  The distinction is important because the type of random variable determines the type of distribution (e.g., binomial vs. normal) and the kind of statistical tools to be used.\n",
        "\n"
      ],
      "metadata": {
        "id": "Xw2YT5xL8Rbp"
      }
    },
    {
      "cell_type": "markdown",
      "source": [
        "Question 3: Explain the difference between discrete and continuous distributions.\n",
        "\n",
        "  - A distribution describes how the values of a random variable are spread. Based on the type of variable, we get two kinds of distributions:\n",
        "\n",
        "    *   Discrete Distribution:\n",
        "\n",
        "      *   Applies to discrete random variables.\n",
        "      *   Probabilities are assigned to specific values.\n",
        "      *   Represented using Probability Mass Function (PMF).\n",
        "      *   Example: Binomial, Poisson distributions.\n",
        "\n",
        "    *   Continuous Distribution:\n",
        "\n",
        "      *   Applies to continuous random variables.\n",
        "      *   Probabilities are described over intervals.\n",
        "      *   Represented using Probability Density Function (PDF).\n",
        "      *   Example: Normal, Exponential distributions.\n",
        "\n",
        "    The key difference is that discrete distributions assign probabilities to exact values, while continuous ones assign probabilities over intervals using area under the curve.\n",
        "\n",
        "\n",
        "\n",
        "\n",
        "\n",
        "\n",
        "\n"
      ],
      "metadata": {
        "id": "tVkpBHkQ8xwH"
      }
    },
    {
      "cell_type": "markdown",
      "source": [
        "Question 4: What is a binomial distribution, and how is it used in probability?\n",
        "\n",
        "  - The binomial distribution is a discrete probability distribution that describes the number of successes in a fixed number of independent Bernoulli trials, where each trial has only two outcomes — success or failure.\n",
        "\n",
        "  Uses:\n",
        "    *   Tossing a coin multiple times.\n",
        "    *   Quality control (e.g., number of defective items in a batch).\n",
        "    *   Clinical trials (e.g., number of patients who respond to a treatment)."
      ],
      "metadata": {
        "id": "mz8_duLgGGRM"
      }
    },
    {
      "cell_type": "markdown",
      "source": [
        "Question 5: What is the standard normal distribution, and why is it important?\n",
        "\n",
        "  - The standard normal distribution is a special case of the normal distribution with:\n",
        "*   Mean (μ) = 0\n",
        "*   Standard deviation (σ) = 1\n",
        "\n",
        "    It is symmetric, bell-shaped, and centered at zero. The values on the x-axis represent Z-scores, which indicate how many standard deviations an observation is from the mean.\n",
        "\n",
        "    Importance:\n",
        "*   Used in hypothesis testing and confidence intervals.\n",
        "*   Facilitates use of Z-tables for probability calculations.\n",
        "\n",
        "    It acts as a reference model for many statistical procedures.\n",
        "\n",
        "\n",
        "\n",
        "\n",
        "\n",
        "\n"
      ],
      "metadata": {
        "id": "DtzqQssoHMAZ"
      }
    },
    {
      "cell_type": "markdown",
      "source": [
        "Question 6: What is the Central Limit Theorem (CLT), and why is it critical in statistics?\n",
        "\n",
        "  - The Central Limit Theorem (CLT) states that the sampling distribution of the sample mean will tend to follow a normal distribution, regardless of the population's original distribution, as long as the sample size is sufficiently large (typically n ≥ 30).\n",
        "\n",
        "    Formally:\n",
        "If\n",
        "𝑋\n",
        "1\n",
        ",\n",
        "𝑋\n",
        "2\n",
        ",\n",
        ".\n",
        ".\n",
        ".\n",
        ",\n",
        "𝑋\n",
        "𝑛\n",
        "X\n",
        "1\n",
        "​\n",
        " ,X\n",
        "2\n",
        "​\n",
        " ,...,X\n",
        "n\n",
        "​\n",
        "  are i.i.d. random variables with mean μ and standard deviation σ, then the sample mean\n",
        "𝑋\n",
        "  is approximately normally distributed\n",
        "\n",
        "  Why it's important:\n",
        "    *   Enables use of normal distribution for inference, even for non-normal populations.\n",
        "    *   Forms the basis for constructing confidence intervals and hypothesis testing."
      ],
      "metadata": {
        "id": "NjdGt43vInA-"
      }
    },
    {
      "cell_type": "markdown",
      "source": [
        "Question 7: What is the significance of confidence intervals in statistical analysis?\n",
        "\n",
        "  - A confidence interval (CI) provides a range of values that is likely to contain the population parameter (like the mean or proportion) with a certain level of confidence, usually 95% or 99%.\n",
        "\n",
        "  For a 95% CI:\n",
        "\n",
        "      *   If we repeated the experiment 100 times, ~95 intervals would contain the true parameter.\n",
        "\n",
        "    Significance:\n",
        "    *   Quantifies uncertainty.\n",
        "    *   More informative than point estimates.\n",
        "    *   Widely used in survey analysis, experimental research, and business analytics."
      ],
      "metadata": {
        "id": "RQTZL4iFKDt8"
      }
    },
    {
      "cell_type": "markdown",
      "source": [
        "Question 8: What is the concept of expected value in a probability distribution?\n",
        "\n",
        "  - The expected value is the average value you would expect to get if you repeated a random experiment many times. It gives a measure of the center or typical outcome of a probability distribution.\n",
        "\n",
        "  Think of it as the long-term result. For example, if you roll a fair six-sided die many times, the outcomes will vary, but the average of those outcomes over time will settle around a certain value — that’s the expected value.\n",
        "\n",
        "  It is used in many areas like economics, insurance, and decision-making to predict future outcomes or evaluate choices under uncertainty. The expected value helps summarize a distribution with a single representative number, giving insight into what is most likely to happen over the long run."
      ],
      "metadata": {
        "id": "G3AvnUB1MIBy"
      }
    },
    {
      "cell_type": "code",
      "source": [
        "'''\n",
        "Question 9: Write a Python program to generate 1000 random numbers from a normal\n",
        "distribution with mean = 50 and standard deviation = 5. Compute its mean and standard\n",
        "deviation using NumPy, and draw a histogram to visualize the distribution.\n",
        "(Include your Python code and output in the code box below.)\n",
        "'''\n",
        "\n",
        "import numpy as np\n",
        "import matplotlib.pyplot as plt\n",
        "\n",
        "data = np.random.normal(loc=50, scale=5, size=1000)\n",
        "\n",
        "mean = np.mean(data)\n",
        "std_dev = np.std(data)\n",
        "\n",
        "print(\"Mean:\", mean)\n",
        "print(\"Standard Deviation:\", std_dev)\n",
        "\n",
        "plt.hist(data, bins=30, color='lightgreen', edgecolor='black')\n",
        "plt.title('Normal Distribution (μ=50, σ=5)')\n",
        "plt.xlabel('Value')\n",
        "plt.ylabel('Frequency')\n",
        "plt.grid(True)\n",
        "plt.show()\n"
      ],
      "metadata": {
        "colab": {
          "base_uri": "https://localhost:8080/",
          "height": 507
        },
        "id": "YN3dAweHQfR0",
        "outputId": "6d37df67-7a63-4904-c6ad-6def1a26d2d2"
      },
      "execution_count": 1,
      "outputs": [
        {
          "output_type": "stream",
          "name": "stdout",
          "text": [
            "Mean: 50.04183407871677\n",
            "Standard Deviation: 5.13415621386006\n"
          ]
        },
        {
          "output_type": "display_data",
          "data": {
            "text/plain": [
              "<Figure size 640x480 with 1 Axes>"
            ],
            "image/png": "[encoded data removed]"
          },
          "metadata": {}
        }
      ]
    },
    {
      "cell_type": "code",
      "source": [
        "'''\n",
        "Question 10: You are working as a data analyst for a retail company. The company has\n",
        "collected daily sales data for 2 years and wants you to identify the overall sales trend.\n",
        "daily_sales = [220, 245, 210, 265, 230, 250, 260, 275, 240, 255,\n",
        "235, 260, 245, 250, 225, 270, 265, 255, 250, 260]\n",
        "● Explain how you would apply the Central Limit Theorem to estimate the average sales\n",
        "with a 95% confidence interval.\n",
        "● Write the Python code to compute the mean sales and its confidence interval.\n",
        "'''\n",
        "\n",
        "\n",
        "#We apply the Central Limit Theorem to estimate the average daily sales with a 95% confidence interval.\n",
        "#Steps:\n",
        "#Calculate sample mean.\n",
        "#Calculate standard error.\n",
        "#Use t-distribution (since sample size < 30).\n",
        "\n",
        "\n",
        "import numpy as np\n",
        "import scipy.stats as stats\n",
        "daily_sales = [220, 245, 210, 265, 230, 250, 260, 275, 240, 255,\n",
        "               235, 260, 245, 250, 225, 270, 265, 255, 250, 260]\n",
        "\n",
        "n = len(daily_sales)\n",
        "\n",
        "mean = np.mean(daily_sales)\n",
        "std_err = stats.sem(daily_sales)\n",
        "conf_int = stats.t.interval(0.95, df=n-1, loc=mean, scale=std_err)\n",
        "\n",
        "print(\"Mean Daily Sales:\", mean)\n",
        "print(\"95% Confidence Interval:\", conf_int)\n"
      ],
      "metadata": {
        "colab": {
          "base_uri": "https://localhost:8080/"
        },
        "id": "Q7VHHZkpRE4y",
        "outputId": "2c9932ad-cb58-4426-9ee5-032ba30c63a7"
      },
      "execution_count": 3,
      "outputs": [
        {
          "output_type": "stream",
          "name": "stdout",
          "text": [
            "Mean Daily Sales: 248.25\n",
            "95% Confidence Interval: (np.float64(240.16957025147158), np.float64(256.3304297485284))\n"
          ]
        }
      ]
    },
    {
      "cell_type": "code",
      "source": [],
      "metadata": {
        "id": "wjC_M0kPUDlc"
      },
      "execution_count": null,
      "outputs": []
    }
  ]
}